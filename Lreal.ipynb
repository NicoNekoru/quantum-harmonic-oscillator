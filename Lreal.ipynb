{
 "cells": [
  {
   "cell_type": "markdown",
   "metadata": {},
   "source": [
    "Compare the derived solutions with the exact Gauss-Germite polynomial solutions for the quantum harmonic oscillator PDE. The error will be given by  \n",
    "$$\n",
    "\t\\left\\|\\left|\\phi_n^{\\text {numerical }}\\right|-\\left|\\phi_n^{\\text {exact }}\\right|\\right\\|\n",
    "$$\n",
    "where $\\|f(x)\\|=\\int_{-L}^L f(x)^2 d x$. \n",
    "\n",
    "For the eigenvalues, we will simply calculate the relative percent error \n",
    "$$\n",
    "\t100 \\times\\left(\\left|\\varepsilon_n^{\\text {numerical }}-\\varepsilon_n^{\\text {exact }}\\right| / \\varepsilon_n^{\\text {exact }}\\right).\n",
    "$$"
   ]
  },
  {
   "cell_type": "code",
   "execution_count": 9,
   "metadata": {},
   "outputs": [],
   "source": [
    "# Imports\n",
    "import math\n",
    "import numpy as np\n",
    "from scipy.special import hermite\n",
    "from scipy.integrate import quad"
   ]
  },
  {
   "cell_type": "code",
   "execution_count": 10,
   "metadata": {},
   "outputs": [],
   "source": [
    "# Parameters\n",
    "K = 1   \n",
    "L = 4   \n",
    "n_modes = 5  \n",
    "xs = np.linspace(-L, L, 81)  "
   ]
  },
  {
   "cell_type": "code",
   "execution_count": 11,
   "metadata": {},
   "outputs": [],
   "source": [
    "# Setup\n",
    "eigvecs_exact = []\n",
    "eigvals_exact = np.array([2*n + 1 for n in range(n_modes)])\n",
    "\n",
    "# Gauss-Hermite polynomial function\n",
    "def hermite_function(x, n):\n",
    "    return np.exp(-x**2 / 2) * hermite(n)(x) / np.sqrt(2**n * math.factorial(n) * np.sqrt(np.pi))\n",
    "\n",
    "# Compute eigenfunctions for n_modes\n",
    "for n in range(n_modes):\n",
    "    psi_ns = hermite_function(xs, n)\n",
    "    norm = np.sqrt(quad(lambda x: hermite_function(x, n)**2, -L, L)[0])\n",
    "    psi_n_normed = psi_ns / norm\n",
    "    eigvecs_exact.append(psi_n_normed)\n",
    "\n",
    "eigvecs_exact = np.array(eigvecs_exact).T"
   ]
  },
  {
   "cell_type": "code",
   "execution_count": 12,
   "metadata": {},
   "outputs": [],
   "source": [
    "## Using shooting\n",
    "\n",
    "# Imports\n",
    "import numpy as np\n",
    "from scipy.integrate import odeint\n",
    "\n",
    "# Define bvp\n",
    "def ansatz_bvp(y, x, epsilon):\n",
    "\treturn [y[1], (x**2 - epsilon) * y[0]]\n",
    "\n",
    "# Define parameters\n",
    "tol = 1e-6\t\t\t\t\t\t\t# Tolerance\n",
    "L = 4 \t\t\t\t\t\t\t\t# Boundary given in problem\n",
    "\n",
    "xp = [-L, L]\t\t\t\t\t\t\t\t# Boundary values\n",
    "samples = int(2 * L / 0.1) + 1\t\t\t\t# Number of samples for linspace; np doesn't like float\n",
    "xspan = np.linspace(xp[0], xp[1], samples)\t# Range of x to search through -- boundaries\n",
    "\n",
    "# Shooting\n",
    "\n",
    "# Define our initial conditions\n",
    "A = 0.1 \t\t\t\t# Initial value for dpsi -- can be anything except 0\n",
    "initial_epsilon = 0\t\t# Initial value for epsilon\n",
    "\n",
    "# Cumulator\n",
    "eigenvalues = []\n",
    "eigenfunctions = []\n",
    "\n",
    "# Find first 5 eigenfunctions\n",
    "for modes in range(5):\n",
    "\tepsilon = initial_epsilon\t\t\t# Start search for epsilon\n",
    "\tdepsilon = 0.01\t\t\t\t\t\t# Change in epsilon\n",
    "\tdp0 = A\t\t\t\t\t\t\t\t# Initial dpsi value\n",
    "\tp0 = dp0 / np.sqrt(L**2 - epsilon)\t# Initial psi value\n",
    "\tpsi0 = [p0, dp0]\t\t\t\t\t# Initial values for psi and dpsi \n",
    "\t\n",
    "\tfor j in range(1000):\t# Find epsilon in 1000 steps max; fail safe\n",
    "\t\tsol = odeint(ansatz_bvp, psi0, xspan, args=(epsilon,))\t# Solve ODE for current epsilon\n",
    "\n",
    "\t\tif abs(sol[-1, 0] / p0) < tol:\t# If found solution is below tolerance\n",
    "\t\t\teigenvalues.append(epsilon)\t\t# Save eigenvalue\n",
    "\t\t\tbreak\t\t\t\t\t\t\t# Stop searching; move onto next eigenvalue\n",
    "\n",
    "\t\tif (-1) ** (modes) * (sol[-1, 0] / p0) > 0:\t# If below target\n",
    "\t\t\tepsilon = epsilon + depsilon \t# Increase epsilon\n",
    "\t\telse:\t\t\t\t\t\t\t\t\t# Otherwise above target\n",
    "\t\t\tepsilon = epsilon - depsilon/2\t# Binary search for epsilon\n",
    "\t\t\tdepsilon = depsilon/2\t\t\t# Binary search for epsilon\n",
    "\n",
    "\tinitial_epsilon = epsilon + 0.1\t# Increase epsilon; search for next eigenvalue\n",
    "\n",
    "\ty_norm = np.trapz(sol[:, 0]**2, xspan)\t\t# Normalize Schrodinger pdf\n",
    "\ty_solution = sol[:, 0] / np.sqrt(y_norm)\t# Divide by norm\n",
    "\teigenfunctions.append(y_solution)\t\t\t# Save eigenfunction\n",
    "\n",
    "ef_shoot = np.column_stack(np.abs(eigenfunctions))\n",
    "ev_shoot = np.vstack(eigenvalues)"
   ]
  },
  {
   "cell_type": "code",
   "execution_count": 13,
   "metadata": {},
   "outputs": [],
   "source": [
    "## Using direct solve\n",
    "\n",
    "import numpy as np\n",
    "from scipy.sparse import diags\n",
    "from scipy.sparse.linalg import eigs\n",
    "\n",
    "# Defined parameters\n",
    "num_eigenvalues= 5\n",
    "\n",
    "L = 4\n",
    "K = 1\n",
    "dx = 0.1\n",
    "\n",
    "N = int((L - -L)/dx) + 1\n",
    "xspan = np.linspace(-4, 4, N)\n",
    "\n",
    "\n",
    "# Direct solve\n",
    "\n",
    "# Construct diagonals\n",
    "main_diagonal = 2*np.ones(N) / dx**2\n",
    "upper_diagonal = -np.ones(N - 1) / dx**2\n",
    "lower_diagonal = -np.ones(N - 1) / dx**2\n",
    "\n",
    "# Found boundary values\n",
    "main_diagonal[0] *= 4/3\n",
    "main_diagonal[-1] *= 4/3\n",
    "\n",
    "upper_diagonal[0] *= -1/3\n",
    "lower_diagonal[-1] *= -1/3\n",
    "\n",
    "# Add X transformation to main diagonal\n",
    "X = K * xspan**2\n",
    "main_diagonal += X\n",
    "\n",
    "# Construct derivative matrix \n",
    "D = diags([lower_diagonal, main_diagonal, upper_diagonal], [-1, 0, 1])\n",
    "\n",
    "# Find eigenvalues and eigenvectors\n",
    "eigenvalues, eigenvectors = eigs(D, k=num_eigenvalues, which='SM')\n",
    "eigenvalues = eigenvalues.real\n",
    "eigenvectors = np.abs(eigenvectors.real)\n",
    "\n",
    "ef_direct = eigenvectors\n",
    "ev_direct = eigenvalues"
   ]
  },
  {
   "cell_type": "code",
   "execution_count": 14,
   "metadata": {},
   "outputs": [
    {
     "data": {
      "text/plain": [
       "[9.282651584716013e-09,\n",
       " 3.2586450316320717e-07,\n",
       " 5.558070056782005e-06,\n",
       " 6.253600138479176e-05,\n",
       " 0.0005233314439583922]"
      ]
     },
     "metadata": {},
     "output_type": "display_data"
    },
    {
     "data": {
      "text/plain": [
       "array([4.98064329e-05, 4.94078810e-04, 4.08833981e-03, 2.45410272e-02,\n",
       "       1.08285048e-01])"
      ]
     },
     "metadata": {},
     "output_type": "display_data"
    },
    {
     "data": {
      "text/plain": [
       "[0.4675445409379586,\n",
       " 0.4675452485980933,\n",
       " 0.4675509320467866,\n",
       " 0.46759823275627554,\n",
       " 0.46791990783479]"
      ]
     },
     "metadata": {},
     "output_type": "display_data"
    },
    {
     "data": {
      "text/plain": [
       "array([0.0624279 , 0.10320785, 0.15407958, 0.17260434, 0.0632553 ])"
      ]
     },
     "metadata": {},
     "output_type": "display_data"
    }
   ],
   "source": [
    "L = 4\n",
    "xs = np.linspace(-L, L, ef_shoot.shape[0])  \n",
    "n_modes = 5   \n",
    "\n",
    "err_ef_shoot = [ \n",
    "\tnp.trapz(( np.abs(ef_shoot[:, i]) - np.abs(eigvecs_exact[:, i]) )**2, xs) \n",
    "\tfor i in range(n_modes) \n",
    "]\n",
    "\n",
    "err_ev_shoot = np.array([\n",
    "\t[ 100 * np.abs( (ev_shoot[i] - eigvals_exact[i]) / eigvals_exact[i]) ] \n",
    "\tfor i in range(n_modes)\n",
    "]).squeeze()\n",
    "\n",
    "err_ef_direct = [np.trapz(\n",
    "\t( np.abs(ef_direct[:, i]) - np.abs(eigvecs_exact[:, i]))**2, xs ) \n",
    "\tfor i in range(n_modes)\n",
    "]\n",
    "\n",
    "err_ev_direct = np.array([\n",
    "\t[100 * np.abs((ev_direct[i] - eigvals_exact[i]) / eigvals_exact[i])] \n",
    "\tfor i in range(n_modes)\n",
    "]).squeeze()\n",
    "\n",
    "display(err_ef_shoot)\n",
    "display(err_ev_shoot)\n",
    "display(err_ef_direct)\n",
    "display(err_ev_direct)\n"
   ]
  }
 ],
 "metadata": {
  "kernelspec": {
   "display_name": "Python 3",
   "language": "python",
   "name": "python3"
  },
  "language_info": {
   "codemirror_mode": {
    "name": "ipython",
    "version": 3
   },
   "file_extension": ".py",
   "mimetype": "text/x-python",
   "name": "python",
   "nbconvert_exporter": "python",
   "pygments_lexer": "ipython3",
   "version": "3.11.3"
  }
 },
 "nbformat": 4,
 "nbformat_minor": 2
}
